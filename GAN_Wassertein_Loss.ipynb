{
 "cells": [
  {
   "cell_type": "code",
   "execution_count": 2,
   "id": "75d4efbf-79b5-43cc-a81f-7cb72b80d4c3",
   "metadata": {},
   "outputs": [],
   "source": [
    "import os\n",
    "import glob\n",
    "import random\n",
    "import torch\n",
    "import torch.nn as nn\n",
    "import torch.optim as optim\n",
    "import torchvision.transforms as transforms\n",
    "from torch.utils.data import Dataset, DataLoader\n",
    "from PIL import Image\n",
    "import matplotlib.pyplot as plt"
   ]
  },
  {
   "cell_type": "code",
   "execution_count": 3,
   "id": "71b4ab14-22e5-4a42-9b38-2415d363f215",
   "metadata": {},
   "outputs": [
    {
     "data": {
      "text/plain": [
       "'\\nimport zipfile\\nimport os\\n\\nzip_path = \"./scrabblegan_dataset.zip\"  # Update with the actual filename\\nextract_path = \"./dataset\"\\n\\n# Extract if not already extracted\\nif not os.path.exists(extract_path):\\n    with zipfile.ZipFile(zip_path, \\'r\\') as zip_ref:\\n        zip_ref.extractall(extract_path)\\n\\nprint(\"✅ Dataset extracted.\")\\n'"
      ]
     },
     "execution_count": 3,
     "metadata": {},
     "output_type": "execute_result"
    }
   ],
   "source": [
    "# Run once to extract dataset from zip file\n",
    "\"\"\"\n",
    "import zipfile\n",
    "import os\n",
    "\n",
    "zip_path = \"./scrabblegan_dataset.zip\"  # Update with the actual filename\n",
    "extract_path = \"./dataset\"\n",
    "\n",
    "# Extract if not already extracted\n",
    "if not os.path.exists(extract_path):\n",
    "    with zipfile.ZipFile(zip_path, 'r') as zip_ref:\n",
    "        zip_ref.extractall(extract_path)\n",
    "\n",
    "print(\"✅ Dataset extracted.\")\n",
    "\"\"\""
   ]
  },
  {
   "cell_type": "code",
   "execution_count": 4,
   "id": "5c6bb37e-5a63-4279-8f1d-0865d2b95f6b",
   "metadata": {},
   "outputs": [
    {
     "data": {
      "text/plain": [
       "'\\nimport os\\n\\nfolder_path = \"C:\\\\Users\\\\jelly\\\\Desktop\\\\Sem-6\\\\GAN\\\\Project_Handwritten_Text_Generation\\\\dataset\\\\\"\\ndeleted_count = 0  # Counter for deleted files\\n\\nfor filename in os.listdir(folder_path):\\n    file_path = os.path.join(folder_path, filename)\\n    if os.path.getsize(file_path) == 0:  # Check if file is empty\\n        print(f\"❌ Deleting empty file: {filename}\")\\n        os.remove(file_path)\\n        deleted_count += 1  # Increment counter\\n\\nprint(f\"✅ All empty files deleted! Total files deleted: {deleted_count}\")\\n'"
      ]
     },
     "execution_count": 4,
     "metadata": {},
     "output_type": "execute_result"
    }
   ],
   "source": [
    "# Deleting all corrupt files, run once after dataset is unzipped\n",
    "\"\"\"\n",
    "import os\n",
    "\n",
    "folder_path = \"C:\\\\Users\\\\jelly\\\\Desktop\\\\Sem-6\\\\GAN\\\\Project_Handwritten_Text_Generation\\\\dataset\\\\\"\n",
    "deleted_count = 0  # Counter for deleted files\n",
    "\n",
    "for filename in os.listdir(folder_path):\n",
    "    file_path = os.path.join(folder_path, filename)\n",
    "    if os.path.getsize(file_path) == 0:  # Check if file is empty\n",
    "        print(f\"❌ Deleting empty file: {filename}\")\n",
    "        os.remove(file_path)\n",
    "        deleted_count += 1  # Increment counter\n",
    "\n",
    "print(f\"✅ All empty files deleted! Total files deleted: {deleted_count}\")\n",
    "\"\"\""
   ]
  },
  {
   "cell_type": "code",
   "execution_count": 5,
   "id": "b5ba3872-6820-4eb9-8a0b-362b8168013a",
   "metadata": {},
   "outputs": [],
   "source": [
    "from torch.utils.data import Dataset\n",
    "import glob\n",
    "from PIL import Image\n",
    "import torchvision.transforms as transforms\n",
    "\n",
    "class HandwritingDataset(Dataset):\n",
    "    def __init__(self, root_dir, transform=None):\n",
    "        self.root_dir = root_dir\n",
    "        self.transform = transform\n",
    "\n",
    "        # Collect paired images (printed -> handwritten)\n",
    "        self.pairs = []\n",
    "        printed_images = glob.glob(os.path.join(root_dir, \"**\", \"*_printed.png\"), recursive=True)\n",
    "\n",
    "        for printed in printed_images:\n",
    "            handwritten = printed.replace(\"_printed.png\", \"_handwritten.png\")\n",
    "            if os.path.exists(handwritten):\n",
    "                self.pairs.append((printed, handwritten))\n",
    "\n",
    "        if len(self.pairs) == 0:\n",
    "            raise ValueError(\"❌ No paired images found! Check dataset structure.\")\n",
    "\n",
    "    def __len__(self):\n",
    "        return len(self.pairs)\n",
    "\n",
    "    def __getitem__(self, idx):\n",
    "        printed_path, handwritten_path = self.pairs[idx]\n",
    "\n",
    "        printed_img = Image.open(printed_path).convert(\"L\")\n",
    "        handwritten_img = Image.open(handwritten_path).convert(\"L\")\n",
    "\n",
    "        if self.transform:\n",
    "            printed_img = self.transform(printed_img)\n",
    "            handwritten_img = self.transform(handwritten_img)\n",
    "\n",
    "        return printed_img, handwritten_img"
   ]
  },
  {
   "cell_type": "code",
   "execution_count": 6,
   "id": "1bd64691-8483-4068-ba64-7d6dc166c32f",
   "metadata": {},
   "outputs": [],
   "source": [
    "from torch.utils.data import DataLoader\n",
    "\n",
    "transform = transforms.Compose([\n",
    "    transforms.Resize((32, 128)),  # Resize to consistent dimensions\n",
    "    transforms.ToTensor(),          \n",
    "    transforms.Normalize((0.5,), (0.5,))  \n",
    "])"
   ]
  },
  {
   "cell_type": "code",
   "execution_count": 7,
   "id": "8d45dd90-d19d-482f-b0bd-3584401ec724",
   "metadata": {},
   "outputs": [
    {
     "name": "stdout",
     "output_type": "stream",
     "text": [
      "✅ Dataset loaded with 44563 samples.\n"
     ]
    }
   ],
   "source": [
    "dataset = HandwritingDataset(root_dir=\"./dataset\", transform=transform)\n",
    "dataloader = DataLoader(dataset, batch_size=16, shuffle=True)\n",
    "\n",
    "print(f\"✅ Dataset loaded with {len(dataset)} samples.\")"
   ]
  },
  {
   "cell_type": "code",
   "execution_count": 8,
   "id": "5a5af9f8-e81e-4b48-91a0-1ce2798b7961",
   "metadata": {},
   "outputs": [],
   "source": [
    "class ResidualBlock(nn.Module):\n",
    "    def __init__(self, channels):\n",
    "        super(ResidualBlock, self).__init__()\n",
    "        self.conv1 = nn.Conv2d(channels, channels, kernel_size=3, stride=1, padding=1)\n",
    "        self.bn1 = nn.BatchNorm2d(channels)\n",
    "        self.relu = nn.ReLU()\n",
    "        self.conv2 = nn.Conv2d(channels, channels, kernel_size=3, stride=1, padding=1)\n",
    "        self.bn2 = nn.BatchNorm2d(channels)\n",
    "\n",
    "    def forward(self, x):\n",
    "        residual = x\n",
    "        out = self.conv1(x)\n",
    "        out = self.bn1(out)\n",
    "        out = self.relu(out)\n",
    "        out = self.conv2(out)\n",
    "        out = self.bn2(out)\n",
    "        out += residual  # Skip connection\n",
    "        out = self.relu(out)\n",
    "        return out\n",
    "\n",
    "class Generator(nn.Module):\n",
    "    def __init__(self):\n",
    "        super(Generator, self).__init__()\n",
    "        self.initial = nn.Sequential(\n",
    "            nn.Conv2d(1, 64, kernel_size=3, stride=1, padding=1),\n",
    "            nn.ReLU()\n",
    "        )\n",
    "\n",
    "        self.res_blocks = nn.Sequential(*[ResidualBlock(64) for _ in range(8)])  # 8 residual layers\n",
    "\n",
    "        self.final = nn.Sequential(\n",
    "            nn.Conv2d(64, 1, kernel_size=3, stride=1, padding=1),\n",
    "            nn.Tanh()\n",
    "        )\n",
    "\n",
    "    def forward(self, x):\n",
    "        x = self.initial(x)\n",
    "        x = self.res_blocks(x)\n",
    "        x = self.final(x)\n",
    "        return x"
   ]
  },
  {
   "cell_type": "code",
   "execution_count": 9,
   "id": "54b6e49e-4271-42be-879b-31ef100a500f",
   "metadata": {},
   "outputs": [],
   "source": [
    "class Discriminator(nn.Module):\n",
    "    def __init__(self):\n",
    "        super(Discriminator, self).__init__()\n",
    "\n",
    "        self.model = nn.Sequential(\n",
    "            nn.Conv2d(1, 64, kernel_size=3, stride=1, padding=1),\n",
    "            nn.LeakyReLU(0.2),\n",
    "            nn.Conv2d(64, 128, kernel_size=3, stride=2, padding=1),\n",
    "            nn.BatchNorm2d(128),\n",
    "            nn.LeakyReLU(0.2),\n",
    "            nn.Conv2d(128, 256, kernel_size=3, stride=2, padding=1),\n",
    "            nn.BatchNorm2d(256),\n",
    "            nn.LeakyReLU(0.2),\n",
    "            nn.Conv2d(256, 512, kernel_size=3, stride=2, padding=1),\n",
    "            nn.BatchNorm2d(512),\n",
    "            nn.LeakyReLU(0.2),\n",
    "            nn.Conv2d(512, 1, kernel_size=3, stride=1, padding=1),\n",
    "            nn.Flatten(),\n",
    "            nn.Linear(4 * 16 * 1, 1)  # Adjust for input size 32x128\n",
    "        )\n",
    "\n",
    "    def forward(self, x):\n",
    "        return self.model(x)"
   ]
  },
  {
   "cell_type": "code",
   "execution_count": 10,
   "id": "65f73e37-3366-4fd7-8876-e1e5e3a57ed3",
   "metadata": {},
   "outputs": [
    {
     "data": {
      "text/plain": [
       "'\\n# ===================== Generator =====================\\nclass Generator(nn.Module):\\n    def __init__(self):\\n        super(Generator, self).__init__()\\n\\n        layers = [\\n            nn.Conv2d(1, 64, kernel_size=3, stride=1, padding=1),\\n            nn.ReLU()\\n        ]\\n\\n        # 48 Additional Conv Layers\\n        for _ in range(8):\\n            layers.append(nn.Conv2d(64, 64, kernel_size=3, stride=1, padding=1))\\n            layers.append(nn.BatchNorm2d(64))\\n            layers.append(nn.ReLU())\\n\\n        layers.append(nn.Conv2d(64, 1, kernel_size=3, stride=1, padding=1))\\n        layers.append(nn.Tanh())  # Normalize output to [-1, 1]\\n\\n        self.model = nn.Sequential(*layers)\\n\\n    def forward(self, x):\\n        return self.model(x)\\n\\n# ===================== Discriminator =====================\\nclass Discriminator(nn.Module):\\n    def __init__(self):\\n        super(Discriminator, self).__init__()\\n\\n        layers = [\\n            nn.Conv2d(1, 64, kernel_size=3, stride=1, padding=1),\\n            nn.LeakyReLU(0.2)\\n        ]\\n\\n        # 48 Additional Conv Layers\\n        for _ in range(8):\\n            layers.append(nn.Conv2d(64, 64, kernel_size=3, stride=1, padding=1))\\n            layers.append(nn.BatchNorm2d(64))\\n            layers.append(nn.LeakyReLU(0.2))\\n\\n        layers.append(nn.Conv2d(64, 1, kernel_size=3, stride=1, padding=1))\\n        layers.append(nn.Flatten())\\n\\n        # Adjust Linear Layer for (64, 256) input shape\\n        layers.append(nn.Linear(32 * 128, 1))\\n\\n        self.model = nn.Sequential(*layers)\\n\\n    def forward(self, x):\\n        return self.model(x)\\n'"
      ]
     },
     "execution_count": 10,
     "metadata": {},
     "output_type": "execute_result"
    }
   ],
   "source": [
    "\"\"\"\n",
    "# ===================== Generator =====================\n",
    "class Generator(nn.Module):\n",
    "    def __init__(self):\n",
    "        super(Generator, self).__init__()\n",
    "\n",
    "        layers = [\n",
    "            nn.Conv2d(1, 64, kernel_size=3, stride=1, padding=1),\n",
    "            nn.ReLU()\n",
    "        ]\n",
    "\n",
    "        # 48 Additional Conv Layers\n",
    "        for _ in range(8):\n",
    "            layers.append(nn.Conv2d(64, 64, kernel_size=3, stride=1, padding=1))\n",
    "            layers.append(nn.BatchNorm2d(64))\n",
    "            layers.append(nn.ReLU())\n",
    "\n",
    "        layers.append(nn.Conv2d(64, 1, kernel_size=3, stride=1, padding=1))\n",
    "        layers.append(nn.Tanh())  # Normalize output to [-1, 1]\n",
    "\n",
    "        self.model = nn.Sequential(*layers)\n",
    "\n",
    "    def forward(self, x):\n",
    "        return self.model(x)\n",
    "\n",
    "# ===================== Discriminator =====================\n",
    "class Discriminator(nn.Module):\n",
    "    def __init__(self):\n",
    "        super(Discriminator, self).__init__()\n",
    "\n",
    "        layers = [\n",
    "            nn.Conv2d(1, 64, kernel_size=3, stride=1, padding=1),\n",
    "            nn.LeakyReLU(0.2)\n",
    "        ]\n",
    "\n",
    "        # 48 Additional Conv Layers\n",
    "        for _ in range(8):\n",
    "            layers.append(nn.Conv2d(64, 64, kernel_size=3, stride=1, padding=1))\n",
    "            layers.append(nn.BatchNorm2d(64))\n",
    "            layers.append(nn.LeakyReLU(0.2))\n",
    "\n",
    "        layers.append(nn.Conv2d(64, 1, kernel_size=3, stride=1, padding=1))\n",
    "        layers.append(nn.Flatten())\n",
    "\n",
    "        # Adjust Linear Layer for (64, 256) input shape\n",
    "        layers.append(nn.Linear(32 * 128, 1))\n",
    "\n",
    "        self.model = nn.Sequential(*layers)\n",
    "\n",
    "    def forward(self, x):\n",
    "        return self.model(x)\n",
    "\"\"\""
   ]
  },
  {
   "cell_type": "code",
   "execution_count": 11,
   "id": "ce401602-8df2-423b-bc84-3c77228b0829",
   "metadata": {},
   "outputs": [],
   "source": [
    "\"\"\"def gradient_penalty(D, real_samples, fake_samples, device=\"cuda\"):\n",
    "    alpha = torch.rand(real_samples.size(0), 1, 1, 1).to(device)\n",
    "    interpolated = (alpha * real_samples + (1 - alpha) * fake_samples).requires_grad_(True)\n",
    "\n",
    "    critic_interpolates = D(interpolated)\n",
    "    gradients = torch.autograd.grad(outputs=critic_interpolates, inputs=interpolated,\n",
    "                                    grad_outputs=torch.ones_like(critic_interpolates),\n",
    "                                    create_graph=True, retain_graph=True)[0]\n",
    "\n",
    "    gradients = gradients.view(gradients.size(0), -1)\n",
    "    gradient_penalty = ((gradients.norm(2, dim=1) - 1) ** 2).mean()\n",
    "    return gradient_penalty\n",
    "\"\"\"\n",
    "def gradient_penalty(D, real_samples, fake_samples, device=\"cuda\"):\n",
    "    alpha = torch.rand(real_samples.size(0), 1, 1, 1, device=device)\n",
    "    interpolated = (alpha * real_samples + (1 - alpha) * fake_samples).requires_grad_(True)\n",
    "\n",
    "    critic_interpolates = D(interpolated)\n",
    "    gradients = torch.autograd.grad(\n",
    "        outputs=critic_interpolates,\n",
    "        inputs=interpolated,\n",
    "        grad_outputs=torch.ones_like(critic_interpolates),\n",
    "        create_graph=True,\n",
    "        retain_graph=True,\n",
    "        only_inputs=True\n",
    "    )[0]\n",
    "\n",
    "    # Compute gradient norm\n",
    "    grad_norm = gradients.view(gradients.size(0), -1).norm(2, dim=1)\n",
    "    #print(f\"Mean Gradient Norm: {grad_norm.mean().item()}\")  # Debugging\n",
    "\n",
    "    return ((grad_norm - 1) ** 2).mean()"
   ]
  },
  {
   "cell_type": "code",
   "execution_count": 15,
   "id": "3be81af1-a902-441e-84a1-f85b4eb13d91",
   "metadata": {},
   "outputs": [],
   "source": [
    "del generator, discriminator\n",
    "torch.cuda.empty_cache()"
   ]
  },
  {
   "cell_type": "code",
   "execution_count": 12,
   "id": "19224b3b-7588-40f4-adee-245a02f0012e",
   "metadata": {},
   "outputs": [],
   "source": [
    "import torch.optim as optim\n",
    "\n",
    "device = \"cuda\" if torch.cuda.is_available() else \"cpu\"\n",
    "\n",
    "generator = Generator().to(device)\n",
    "discriminator = Discriminator().to(device)\n",
    "\n",
    "#Consider using (0.0, 0.9) as betas for more stable training\n",
    "optimizer_G = optim.Adam(generator.parameters(), lr=0.0001, betas=(0.5, 0.9))\n",
    "optimizer_D = optim.Adam(discriminator.parameters(), lr=0.0001, betas=(0.5, 0.9))\n",
    "\n",
    "# Consider using RMSprop optimizer as used with original WGAN\n",
    "\"\"\"\n",
    "optimizer_G = optim.RMSprop(generator.parameters(), lr=0.00005)\n",
    "optimizer_D = optim.RMSprop(discriminator.parameters(), lr=0.00005)\n",
    "\"\"\"\n",
    "\n",
    "#Consider lowering this value, as it might be reducing the impact of wassertein loss itself\n",
    "lambda_gp = 40  # Gradient penalty weight"
   ]
  },
  {
   "cell_type": "code",
   "execution_count": 12,
   "id": "464e4635-434e-4280-9a60-990679b81822",
   "metadata": {},
   "outputs": [
    {
     "name": "stderr",
     "output_type": "stream",
     "text": [
      "C:\\Users\\jelly\\anaconda3\\envs\\pytorch_env\\Lib\\site-packages\\torch\\autograd\\graph.py:768: UserWarning: Attempting to run cuBLAS, but there was no current CUDA context! Attempting to set the primary context... (Triggered internally at C:\\cb\\pytorch_1000000000000\\work\\aten\\src\\ATen\\cuda\\CublasHandlePool.cpp:135.)\n",
      "  return Variable._execution_engine.run_backward(  # Calls into the C++ engine to run the backward pass\n",
      "Epoch 1/50: 100%|██████████| 2786/2786 [06:02<00:00,  7.68it/s, D Loss=-14.2580, G Loss=Skipping] \n",
      "Epoch 2/50: 100%|██████████| 2786/2786 [06:18<00:00,  7.35it/s, D Loss=-23.7586, G Loss=Skipping]  \n",
      "Epoch 3/50: 100%|██████████| 2786/2786 [07:06<00:00,  6.53it/s, D Loss=-9.1151, G Loss=Skipping]    \n",
      "Epoch 4/50: 100%|██████████| 2786/2786 [07:25<00:00,  6.25it/s, D Loss=1469.0934, G Loss=Skipping]    \n",
      "Epoch 5/50: 100%|██████████| 2786/2786 [07:29<00:00,  6.20it/s, D Loss=422.6858, G Loss=Skipping]     \n",
      "Epoch 6/50: 100%|██████████| 2786/2786 [06:41<00:00,  6.94it/s, D Loss=-3067.1558, G Loss=Skipping]   \n",
      "Epoch 7/50: 100%|██████████| 2786/2786 [06:24<00:00,  7.24it/s, D Loss=109.8958, G Loss=Skipping]      \n",
      "Epoch 8/50: 100%|██████████| 2786/2786 [06:07<00:00,  7.57it/s, D Loss=-7658.3101, G Loss=Skipping]  \n",
      "Epoch 9/50: 100%|██████████| 2786/2786 [06:13<00:00,  7.45it/s, D Loss=-14131.7764, G Loss=Skipping]   \n",
      "Epoch 10/50: 100%|██████████| 2786/2786 [06:13<00:00,  7.45it/s, D Loss=-15.2318, G Loss=Skipping]     \n",
      "Epoch 11/50: 100%|██████████| 2786/2786 [06:00<00:00,  7.74it/s, D Loss=-14.1753, G Loss=Skipping]   \n",
      "Epoch 12/50: 100%|██████████| 2786/2786 [06:06<00:00,  7.60it/s, D Loss=47.2052, G Loss=Skipping]      \n",
      "Epoch 13/50: 100%|██████████| 2786/2786 [06:06<00:00,  7.59it/s, D Loss=-63867.1719, G Loss=Skipping]  \n",
      "Epoch 14/50: 100%|██████████| 2786/2786 [06:08<00:00,  7.56it/s, D Loss=-168602.7344, G Loss=Skipping]  \n",
      "Epoch 15/50: 100%|██████████| 2786/2786 [06:07<00:00,  7.57it/s, D Loss=-337445.8125, G Loss=Skipping]   \n",
      "Epoch 16/50: 100%|██████████| 2786/2786 [06:12<00:00,  7.48it/s, D Loss=-552378.0625, G Loss=Skipping]   \n",
      "Epoch 17/50: 100%|██████████| 2786/2786 [05:50<00:00,  7.95it/s, D Loss=-994380.3750, G Loss=Skipping]    \n",
      "Epoch 18/50: 100%|██████████| 2786/2786 [06:18<00:00,  7.36it/s, D Loss=-1574793.1250, G Loss=Skipping]   \n",
      "Epoch 19/50: 100%|██████████| 2786/2786 [06:05<00:00,  7.62it/s, D Loss=-2035565.2500, G Loss=Skipping]    \n",
      "Epoch 20/50: 100%|██████████| 2786/2786 [06:06<00:00,  7.60it/s, D Loss=-3248644.5000, G Loss=Skipping]    \n",
      "Epoch 21/50: 100%|██████████| 2786/2786 [06:10<00:00,  7.53it/s, D Loss=3632375.0000, G Loss=Skipping]     \n",
      "Epoch 22/50: 100%|██████████| 2786/2786 [06:07<00:00,  7.58it/s, D Loss=2410.4763, G Loss=Skipping]        \n",
      "Epoch 23/50: 100%|██████████| 2786/2786 [06:05<00:00,  7.61it/s, D Loss=22.6547, G Loss=Skipping]      \n",
      "Epoch 24/50: 100%|██████████| 2786/2786 [06:09<00:00,  7.54it/s, D Loss=-9.3496, G Loss=Skipping]      \n",
      "Epoch 25/50: 100%|██████████| 2786/2786 [06:34<00:00,  7.06it/s, D Loss=-3.5329, G Loss=Skipping]      \n",
      "Epoch 26/50: 100%|██████████| 2786/2786 [05:57<00:00,  7.80it/s, D Loss=-10.4916, G Loss=Skipping]    \n",
      "Epoch 27/50: 100%|██████████| 2786/2786 [05:54<00:00,  7.85it/s, D Loss=-8.1282, G Loss=Skipping]     \n",
      "Epoch 28/50: 100%|██████████| 2786/2786 [05:51<00:00,  7.92it/s, D Loss=-10.0804, G Loss=Skipping]    \n",
      "Epoch 29/50: 100%|██████████| 2786/2786 [05:47<00:00,  8.01it/s, D Loss=-14.6344, G Loss=Skipping]    \n",
      "Epoch 30/50: 100%|██████████| 2786/2786 [05:45<00:00,  8.06it/s, D Loss=-14.6476, G Loss=Skipping]    \n",
      "Epoch 31/50: 100%|██████████| 2786/2786 [05:41<00:00,  8.15it/s, D Loss=-11.1799, G Loss=Skipping]    \n",
      "Epoch 32/50: 100%|██████████| 2786/2786 [05:46<00:00,  8.05it/s, D Loss=-18.0688, G Loss=Skipping]    \n",
      "Epoch 33/50: 100%|██████████| 2786/2786 [05:45<00:00,  8.06it/s, D Loss=-14.0137, G Loss=Skipping]    \n",
      "Epoch 34/50: 100%|██████████| 2786/2786 [05:47<00:00,  8.03it/s, D Loss=-10.7425, G Loss=Skipping]    \n",
      "Epoch 35/50: 100%|██████████| 2786/2786 [05:46<00:00,  8.03it/s, D Loss=-4.1024, G Loss=Skipping]     \n",
      "Epoch 36/50: 100%|██████████| 2786/2786 [05:46<00:00,  8.04it/s, D Loss=-12.7016, G Loss=Skipping]    \n",
      "Epoch 37/50: 100%|██████████| 2786/2786 [05:47<00:00,  8.01it/s, D Loss=-3.2588, G Loss=Skipping]     \n",
      "Epoch 38/50: 100%|██████████| 2786/2786 [05:46<00:00,  8.05it/s, D Loss=-12.3160, G Loss=Skipping]    \n",
      "Epoch 39/50: 100%|██████████| 2786/2786 [05:45<00:00,  8.06it/s, D Loss=-11.6608, G Loss=Skipping]    \n",
      "Epoch 40/50: 100%|██████████| 2786/2786 [05:43<00:00,  8.12it/s, D Loss=-8.5561, G Loss=Skipping]     \n",
      "Epoch 41/50: 100%|██████████| 2786/2786 [05:45<00:00,  8.07it/s, D Loss=-17.6067, G Loss=Skipping]    \n",
      "Epoch 42/50: 100%|██████████| 2786/2786 [05:46<00:00,  8.04it/s, D Loss=-17.4910, G Loss=Skipping]    \n",
      "Epoch 43/50: 100%|██████████| 2786/2786 [05:44<00:00,  8.08it/s, D Loss=-10.9408, G Loss=Skipping]    \n",
      "Epoch 44/50: 100%|██████████| 2786/2786 [05:45<00:00,  8.07it/s, D Loss=-5.8928, G Loss=Skipping]     \n",
      "Epoch 45/50: 100%|██████████| 2786/2786 [05:43<00:00,  8.11it/s, D Loss=-10.0127, G Loss=Skipping]    \n",
      "Epoch 46/50: 100%|██████████| 2786/2786 [05:41<00:00,  8.16it/s, D Loss=-8.8383, G Loss=Skipping]     \n",
      "Epoch 47/50: 100%|██████████| 2786/2786 [05:43<00:00,  8.11it/s, D Loss=-7.7196, G Loss=Skipping]     \n",
      "Epoch 48/50: 100%|██████████| 2786/2786 [06:15<00:00,  7.41it/s, D Loss=-7.1558, G Loss=Skipping]     \n",
      "Epoch 49/50: 100%|██████████| 2786/2786 [05:57<00:00,  7.79it/s, D Loss=-7.2308, G Loss=Skipping]     \n",
      "Epoch 50/50: 100%|██████████| 2786/2786 [05:46<00:00,  8.05it/s, D Loss=-15.3589, G Loss=Skipping]    \n"
     ]
    }
   ],
   "source": [
    "from tqdm import tqdm\n",
    "\n",
    "num_epochs = 50  # Number of training epochs\n",
    "\n",
    "for epoch in range(num_epochs):\n",
    "    progress_bar = tqdm(dataloader, total=len(dataloader), desc=f\"Epoch {epoch+1}/{num_epochs}\")\n",
    "\n",
    "    for i, (printed_imgs, handwritten_imgs) in enumerate(progress_bar):\n",
    "        printed_imgs = printed_imgs.to(device, non_blocking=True)\n",
    "        handwritten_imgs = handwritten_imgs.to(device, non_blocking=True)\n",
    "\n",
    "        # ==================== Train Discriminator ====================\n",
    "        optimizer_D.zero_grad()\n",
    "\n",
    "        real_pred = discriminator(handwritten_imgs)\n",
    "        fake_imgs = generator(printed_imgs).detach()\n",
    "        fake_pred = discriminator(fake_imgs)\n",
    "\n",
    "        gp = gradient_penalty(discriminator, handwritten_imgs, fake_imgs, device)\n",
    "        d_loss = -torch.mean(real_pred) + torch.mean(fake_pred) + lambda_gp * gp\n",
    "\n",
    "        d_loss.backward()\n",
    "        optimizer_D.step()\n",
    "\n",
    "        # ==================== Train Generator ====================\n",
    "        g_loss_value = None\n",
    "        if i % 2 == 0:  # Train generator less frequently\n",
    "            optimizer_G.zero_grad()\n",
    "\n",
    "            fake_imgs = generator(printed_imgs)\n",
    "            fake_pred = discriminator(fake_imgs)\n",
    "\n",
    "            g_loss = -torch.mean(fake_pred)\n",
    "\n",
    "            g_loss.backward()\n",
    "            optimizer_G.step()\n",
    "\n",
    "            g_loss_value = g_loss.item()\n",
    "\n",
    "        # ==================== Update tqdm ====================\n",
    "        progress_bar.set_postfix({\n",
    "            \"D Loss\": f\"{d_loss.item():.4f}\",\n",
    "            \"G Loss\": f\"{g_loss_value:.4f}\" if g_loss_value else \"Skipping\"\n",
    "        })\n",
    "\n",
    "        # ==================== Free GPU Memory (Only After Both Updates) ====================\n",
    "        del real_pred, fake_imgs, fake_pred, gp, handwritten_imgs, d_loss\n",
    "        if g_loss_value is not None:\n",
    "            del g_loss\n",
    "        torch.cuda.empty_cache()"
   ]
  },
  {
   "cell_type": "code",
   "execution_count": 13,
   "id": "b87e867e-6a08-4da9-9679-947df731aaa3",
   "metadata": {},
   "outputs": [],
   "source": [
    "torch.save({'generator': generator.state_dict(), 'discriminator': discriminator.state_dict()}, \"model_checkpoint.pth\")"
   ]
  },
  {
   "cell_type": "markdown",
   "id": "301dc2f9-ba63-44ba-8679-f9eeef12a30d",
   "metadata": {},
   "source": [
    "### Loading saved model"
   ]
  },
  {
   "cell_type": "code",
   "execution_count": 17,
   "id": "be6880aa-41dc-4cff-9fd4-8ba2f42cc580",
   "metadata": {},
   "outputs": [
    {
     "name": "stderr",
     "output_type": "stream",
     "text": [
      "C:\\Users\\jelly\\AppData\\Local\\Temp\\ipykernel_3708\\1404931236.py:8: FutureWarning: You are using `torch.load` with `weights_only=False` (the current default value), which uses the default pickle module implicitly. It is possible to construct malicious pickle data which will execute arbitrary code during unpickling (See https://github.com/pytorch/pytorch/blob/main/SECURITY.md#untrusted-models for more details). In a future release, the default value for `weights_only` will be flipped to `True`. This limits the functions that could be executed during unpickling. Arbitrary objects will no longer be allowed to be loaded via this mode unless they are explicitly allowlisted by the user via `torch.serialization.add_safe_globals`. We recommend you start setting `weights_only=True` for any use case where you don't have full control of the loaded file. Please open an issue on GitHub for any issues related to this experimental feature.\n",
      "  checkpoint = torch.load(\"model_checkpoint.pth\")\n"
     ]
    },
    {
     "data": {
      "text/plain": [
       "<All keys matched successfully>"
      ]
     },
     "execution_count": 17,
     "metadata": {},
     "output_type": "execute_result"
    }
   ],
   "source": [
    "import torch\n",
    "\n",
    "# Define your models first\n",
    "generator = Generator().to(device)  # Replace with your actual generator class\n",
    "discriminator = Discriminator().to(device)  # Replace with your actual discriminator class\n",
    "\n",
    "# Load the checkpoint\n",
    "checkpoint = torch.load(\"model_checkpoint.pth\")\n",
    "\n",
    "# Load the saved state dictionaries\n",
    "generator.load_state_dict(checkpoint['generator'])\n",
    "discriminator.load_state_dict(checkpoint['discriminator'])"
   ]
  },
  {
   "cell_type": "code",
   "execution_count": null,
   "id": "06369bb1-2979-4648-af2a-3deaa7a97356",
   "metadata": {},
   "outputs": [],
   "source": [
    "from PIL import Image, ImageDraw, ImageFont\n",
    "import torch\n",
    "import torchvision.transforms as transforms\n",
    "\n",
    "# Load font (make sure the path to your font file is correct)\n",
    "font_path = \"arial.ttf\"  # Change to the actual font file path\n",
    "font_size = 40\n",
    "font = ImageFont.truetype(font_path, font_size)\n",
    "\n",
    "# Function to create a printed text image\n",
    "def text_to_input_image(text, img_size=(300, 100)):\n",
    "    img = Image.new(\"RGB\", img_size, \"white\")\n",
    "    draw = ImageDraw.Draw(img)\n",
    "    draw.text((10, 30), text, font=font, fill=\"black\")\n",
    "    \n",
    "    # Resize to match the model input (32 x 128) and convert to grayscale\n",
    "    transform = transforms.Compose([\n",
    "        transforms.Grayscale(num_output_channels=1),\n",
    "        transforms.Resize((32, 128)),\n",
    "        transforms.ToTensor(),\n",
    "        transforms.Normalize(mean=[0.5], std=[0.5])  # Normalize to match training distribution\n",
    "    ])\n",
    "\n",
    "    input_tensor = transform(img).unsqueeze(0)  # Add batch dimension\n",
    "    return input_tensor.to(\"cuda\" if torch.cuda.is_available() else \"cpu\")  # Move to GPU if available\n",
    "\n",
    "# Function to generate handwritten text image\n",
    "def generate_handwritten_image(text):\n",
    "    input_image_tensor = text_to_input_image(text)\n",
    "\n",
    "    # Generate handwritten image\n",
    "    with torch.no_grad():\n",
    "        handwritten_tensor = generator(input_image_tensor)  # Pass through the trained generator\n",
    "\n",
    "    # Convert output tensor to image\n",
    "    handwritten_tensor = handwritten_tensor.squeeze(0).cpu()  # Remove batch dimension and move to CPU\n",
    "    handwritten_tensor = (handwritten_tensor * 0.5) + 0.5  # Denormalize from [-1,1] to [0,1]\n",
    "\n",
    "    # Convert tensor to PIL image\n",
    "    handwritten_image = transforms.ToPILImage()(handwritten_tensor)\n",
    "\n",
    "    return handwritten_image"
   ]
  },
  {
   "cell_type": "code",
   "execution_count": 31,
   "id": "631bcdf1-fa38-4eaf-9b8e-32c6ac09a82c",
   "metadata": {},
   "outputs": [
    {
     "name": "stdout",
     "output_type": "stream",
     "text": [
      "Image for 'Random': \n"
     ]
    },
    {
     "data": {
      "image/png": "[encoded data removed]",
      "text/plain": [
       "<Figure size 640x480 with 1 Axes>"
      ]
     },
     "metadata": {},
     "output_type": "display_data"
    },
    {
     "name": "stdout",
     "output_type": "stream",
     "text": [
      "Image for 'The': \n"
     ]
    },
    {
     "data": {
      "image/png": "[encoded data removed]",
      "text/plain": [
       "<Figure size 640x480 with 1 Axes>"
      ]
     },
     "metadata": {},
     "output_type": "display_data"
    },
    {
     "name": "stdout",
     "output_type": "stream",
     "text": [
      "Image for 'Keys': \n"
     ]
    },
    {
     "data": {
      "image/png": "[encoded data removed]",
      "text/plain": [
       "<Figure size 640x480 with 1 Axes>"
      ]
     },
     "metadata": {},
     "output_type": "display_data"
    }
   ],
   "source": [
    "# Example usage\n",
    "text = [\"Random\", \"The\", \"Keys\"]\n",
    "\n",
    "for text in text:\n",
    "    handwritten_image = generate_handwritten_image(text)\n",
    "    print(f\"Image for '{text}': \")\n",
    "    # Show image\n",
    "    plt.imshow(handwritten_image, cmap=\"gray\")\n",
    "    plt.axis(\"off\")\n",
    "    plt.show()"
   ]
  }
 ],
 "metadata": {
  "kernelspec": {
   "display_name": "Python 3 (ipykernel)",
   "language": "python",
   "name": "python3"
  },
  "language_info": {
   "codemirror_mode": {
    "name": "ipython",
    "version": 3
   },
   "file_extension": ".py",
   "mimetype": "text/x-python",
   "name": "python",
   "nbconvert_exporter": "python",
   "pygments_lexer": "ipython3",
   "version": "3.11.9"
  }
 },
 "nbformat": 4,
 "nbformat_minor": 5
}
